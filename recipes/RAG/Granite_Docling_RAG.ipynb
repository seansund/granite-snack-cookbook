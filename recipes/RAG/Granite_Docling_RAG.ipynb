{
  "cells": [
    {
      "cell_type": "markdown",
      "metadata": {
        "id": "U48hO1_V_JRG",
        "pycharm": {
          "name": "#%% md\n"
        }
      },
      "source": [
        "#Building an AI-Powered Document Retrieval System with Docling and Granite 3.1\n",
        "*Using IBM Granite Models*"
      ]
    },
    {
      "cell_type": "markdown",
      "metadata": {
        "id": "_eDALN1A9LF8"
      },
      "source": [
        "## Recipe Overview\n",
        "\n",
        "Welcome to this Granite recipe, in this recipe, you'll learn to harness the power of advanced tools to build AI-powered document retrieval systems. It will guide you through:\n",
        "\n",
        "- **Document Processing:** Learn to handle documents from various sources, parse and transform them into usable formats, and store them in vector databases using Docling.\n",
        "- **Retrieval-Augmented Generation (RAG):** Understand how to connect large language models (LLMs) like Granite 3.1 with external knowledge bases to enhance query responses and generate valuable insights.\n",
        "- **LangChain for Workflow Integration:** Discover how to use LangChain to streamline and orchestrate document processing and retrieval workflows, enabling seamless interaction between different components of the system.\n",
        "\n",
        "This workshop leverages two cutting-edge technologies:\n",
        "\n",
        "1. **[Docling](https://github.com/DS4SD/docling):** An IBM open-source toolkit for parsing and converting documents.\n",
        "2. **[Granite™ 3.1 8B](https://www.ibm.com/granite):** A state-of-the-art LLM available via an [API](https://www.ibm.com/topics/api) through Replicate, providing robust natural language capabilities.\n",
        "3. **[LangChain](https://github.com/langchain-ai/langchain):** A powerful framework for building applications powered by language models, designed to simplify complex workflows and integrate external tools seamlessly.\n",
        "\n",
        "By the end of this recipe, you will:\n",
        "- Gain proficiency in document processing and chunking.\n",
        "- Integrate vector databases to enhance retrieval capabilities.\n",
        "- Utilize RAG to perform efficient and accurate data retrieval for real-world applications.\n",
        "\n",
        "This recipe is designed for AI developers, researchers, and enthusiasts looking to enhance their knowledge of document management and advanced NLP techniques.\n"
      ]
    },
    {
      "cell_type": "markdown",
      "metadata": {
        "id": "vooxv7ltEZBf"
      },
      "source": [
        "\n",
        "## Prerequisites\n",
        "\n",
        "- Familiarity with Python programming.\n",
        "- Basic understanding of large language models and natural language processing concepts.\n"
      ]
    },
    {
      "cell_type": "markdown",
      "metadata": {
        "id": "PN2mK175_JRH",
        "jupyter": {
          "outputs_hidden": false
        },
        "pycharm": {
          "name": "#%% md\n"
        }
      },
      "source": [
        "## Step 1: Setting up the environment"
      ]
    },
    {
      "cell_type": "markdown",
      "metadata": {
        "id": "Wfg8kTVr_JRH"
      },
      "source": [
        "Ensure you are running python 3.10 or 3.11 in a freshly-created virtual environment."
      ]
    },
    {
      "cell_type": "code",
      "execution_count": null,
      "metadata": {
        "id": "UEoM938B_JRH"
      },
      "outputs": [],
      "source": [
        "import sys\n",
        "assert sys.version_info >= (3, 10) and sys.version_info < (3, 12), \"Use Python 3.10 or 3.11 to run this notebook.\""
      ]
    },
    {
      "cell_type": "markdown",
      "metadata": {
        "id": "4p_2cX1-_JRI",
        "jupyter": {
          "outputs_hidden": false
        },
        "pycharm": {
          "name": "#%% md\n"
        }
      },
      "source": [
        "## Step 2: Install dependencies"
      ]
    },
    {
      "cell_type": "code",
      "execution_count": null,
      "metadata": {
        "id": "BfMWUUSs_JRI",
        "jupyter": {
          "outputs_hidden": false
        },
        "pycharm": {
          "name": "#%%\n"
        }
      },
      "outputs": [],
      "source": [
        "! pip install \"git+https://github.com/ibm-granite-community/utils.git\" \\\n",
        "    transformers \\\n",
        "    langchain-community \\\n",
        "    langchain-huggingface \\\n",
        "    langchain-milvus \\\n",
        "    docling \\\n",
        "    replicate torch tiktoken"
      ]
    },
    {
      "cell_type": "markdown",
      "metadata": {
        "id": "4gu-Oeay_JRJ"
      },
      "source": [
        "## Step 3: Selecting System Components"
      ]
    },
    {
      "cell_type": "markdown",
      "metadata": {
        "id": "EDZd6WEf_JRJ"
      },
      "source": [
        "### Choose your Embeddings Model"
      ]
    },
    {
      "cell_type": "markdown",
      "metadata": {
        "id": "KFuZBhG-_JRJ"
      },
      "source": [
        "Specify the model to use for generating embedding vectors from text. Here we will be using one of the new [Granite Embeddings models](https://huggingface.co/collections/ibm-granite/granite-embedding-models-6750b30c802c1926a35550bb)\n",
        "\n",
        "To use a model from another provider, replace this code cell with one from [this Embeddings Model recipe](https://github.com/ibm-granite-community/granite-kitchen/blob/main/recipes/Components/Langchain_Embeddings_Models.ipynb)."
      ]
    },
    {
      "cell_type": "code",
      "execution_count": null,
      "metadata": {
        "id": "mvztNZly_JRJ"
      },
      "outputs": [],
      "source": [
        "from langchain.embeddings import HuggingFaceEmbeddings\n",
        "from transformers import AutoTokenizer\n",
        "\n",
        "embeddings_model = HuggingFaceEmbeddings(model_name='ibm-granite/granite-embedding-30m-english')\n",
        "embeddings_tokenizer = AutoTokenizer.from_pretrained(\"ibm-granite/granite-embedding-30m-english\")"
      ]
    },
    {
      "cell_type": "markdown",
      "metadata": {
        "id": "ma8eWR10_JRJ"
      },
      "source": [
        "### Use the Granite 3.1 8b model\n",
        "\n",
        "In order for us to use the Granite 3.1 model without running it locally, we can run it through a Replicate API. The instructions to set this up are [here](https://ibm.github.io/granite-workshop/pre-work/#replicate-ai-cloud-platform-for-colab). Once you have your API token, be sure to set the \"Value\" field to the token value, and the \"Name\" field should be \"REPLICATE_API_TOKEN\"."
      ]
    },
    {
      "cell_type": "code",
      "execution_count": null,
      "metadata": {
        "id": "Ckyj7Zrh_JRK"
      },
      "outputs": [],
      "source": [
        "from transformers import AutoModelForCausalLM\n",
        "import os\n",
        "import requests\n",
        "from langchain_community.llms import Replicate\n",
        "from ibm_granite_community.notebook_utils import get_env_var\n",
        "\n",
        "model = Replicate(model=\"ibm-granite/granite-3.1-8b-instruct\",\n",
        "                  replicate_api_token=get_env_var(\"REPLICATE_API_TOKEN\"))\n",
        "\n",
        "model_path = \"ibm-granite/granite-3.1-8b-instruct\"\n",
        "tokenizer = AutoTokenizer.from_pretrained(model_path)"
      ]
    },
    {
      "cell_type": "markdown",
      "metadata": {
        "id": "skQ8Xn0L_JRK"
      },
      "source": [
        "Now that we have the model downloaded, let's try asking it a question"
      ]
    },
    {
      "cell_type": "code",
      "execution_count": null,
      "metadata": {
        "id": "-Sj3zZYE_JRK"
      },
      "outputs": [],
      "source": [
        "query = \"Who won in the Pantoja vs Asakura fight at UFC 310?\"\n",
        "prompt_guide_template = \"\"\"\\\n",
        "<|start_of_role|>user<|end_of_role|>{prompt}<|end_of_text|>\n",
        "<|start_of_role|>assistant<|end_of_role|>\"\"\"\n",
        "prompt = prompt_guide_template.format(prompt=f\"{query}\"\n",
        ")\n",
        "\n",
        "output = model.invoke(\n",
        "    prompt,\n",
        "    model_kwargs={\n",
        "        \"max_tokens\": 1000, # Set the maximum number of tokens to generate as output.\n",
        "        \"min_tokens\": 100, # Set the minimum number of tokens to generate as output.\n",
        "        \"system_prompt\": \"You are a helpful assistant.\",\n",
        "    }\n",
        "    )\n",
        "\n",
        "print(output)"
      ]
    },
    {
      "cell_type": "markdown",
      "metadata": {
        "id": "C_2KpI91JhNH"
      },
      "source": [
        "Now, I know that UFC 310 happened in 2024, and this does not seem to be the right Pantoja. The model doesn't seem to know the answer but at least understands that this matchup did not occur. Let's see if it has some specific UFC rules info."
      ]
    },
    {
      "cell_type": "code",
      "execution_count": null,
      "metadata": {
        "id": "_eR6qTQzMX_a"
      },
      "outputs": [],
      "source": [
        "query1 = \"How much weight allowance is allowed in non championship fights in the UFC?\"\n",
        "\n",
        "prompt = prompt_guide_template.format(prompt=f\"{query1}\"\n",
        ")\n",
        "output = model.invoke(\n",
        "    prompt,\n",
        "    model_kwargs={\n",
        "        \"max_tokens\": 1000, # Set the maximum number of tokens to generate as output.\n",
        "        \"min_tokens\": 100, # Set the minimum number of tokens to generate as output.\n",
        "        \"system_prompt\": \"You are a helpful assistant.\",\n",
        "    }\n",
        "    )\n",
        "\n",
        "print(output)"
      ]
    },
    {
      "cell_type": "markdown",
      "metadata": {
        "id": "LkmllCgNNlcF"
      },
      "source": [
        "Based on the official UFC rules, this is also incorrect. Let's try getting some documents that contains this information for the model."
      ]
    },
    {
      "cell_type": "markdown",
      "metadata": {
        "id": "q2pGGBP7_JRJ"
      },
      "source": [
        "### Choose your Vector Database"
      ]
    },
    {
      "cell_type": "markdown",
      "metadata": {
        "id": "K4mMSwQx_JRJ"
      },
      "source": [
        "Specify the database to use for storing and retrieving embedding vectors.\n",
        "\n",
        "To connect to a vector database other than Milvus, replace this code cell with one from [this Vector Store recipe](https://github.com/ibm-granite-community/granite-kitchen/blob/main/recipes/Components/Langchain_Vector_Stores.ipynb)."
      ]
    },
    {
      "cell_type": "code",
      "execution_count": null,
      "metadata": {
        "id": "MjaP-5Gp_JRJ"
      },
      "outputs": [],
      "source": [
        "from langchain_milvus import Milvus\n",
        "import tempfile\n",
        "\n",
        "db_file = tempfile.NamedTemporaryFile(prefix=\"milvus_\", suffix=\".db\", delete=False).name\n",
        "print(f\"The vector database will be saved to {db_file}\")\n",
        "\n",
        "vector_db = Milvus(\n",
        "    embedding_function=embeddings_model,\n",
        "    connection_args={\"uri\": db_file},\n",
        "    auto_id=True,\n",
        "    enable_dynamic_field=True,\n",
        ")"
      ]
    },
    {
      "cell_type": "markdown",
      "metadata": {
        "id": "nviHG3n7_JRK",
        "jupyter": {
          "outputs_hidden": false
        },
        "pycharm": {
          "name": "#%% md\n"
        }
      },
      "source": [
        "## Step 4: Building the Vector Database"
      ]
    },
    {
      "cell_type": "markdown",
      "metadata": {
        "id": "eZ7Guu7A_JRK"
      },
      "source": [
        "In this example, from a set of source documents, we use [Docling](https://github.com/DS4SD/docling) to convert the documents into text and then split the text into chunks, derive embedding vectors using the embedding model, and load it into the vector database. Creating this vector database will allow us to easily search across our documents, enabling us to use RAG."
      ]
    },
    {
      "cell_type": "markdown",
      "metadata": {
        "id": "HuB8kkzf_JRK"
      },
      "source": [
        "### Use Docling to download the documents, convert to text, and split into chunks"
      ]
    },
    {
      "cell_type": "markdown",
      "metadata": {
        "id": "se6So2yw_JRK"
      },
      "source": [
        "Here we have found a website that gives us information on UFC 310, as well as a PDF of the official UFC rules. Below we will see Docling can convert both documents and chunk them."
      ]
    },
    {
      "cell_type": "code",
      "execution_count": null,
      "metadata": {
        "id": "YNGz_0gZ_JRK"
      },
      "outputs": [],
      "source": [
        "# Docling imports\n",
        "from docling.datamodel.base_models import InputFormat\n",
        "from docling.datamodel.pipeline_options import PdfPipelineOptions, TesseractCliOcrOptions\n",
        "from docling.document_converter import DocumentConverter, PdfFormatOption, WordFormatOption, SimplePipeline\n",
        "from docling.chunking import HybridChunker\n",
        "from docling_core.types.doc.labels import DocItemLabel\n",
        "from langchain_core.documents import Document\n",
        "\n",
        "#Here are our documents, feel free to add more documents in formats that Docling supports\n",
        "sources = [\n",
        "    \"https://www.ufc.com/news/main-card-results-highlights-winner-interviews-ufc-310-pantoja-vs-asakura\",\n",
        "    \"https://media.ufc.tv/discover-ufc/Unified_Rules_MMA.pdf\",\n",
        "\n",
        "]\n",
        "\n",
        "converter = DocumentConverter()\n",
        "\n",
        "#Convert and chunk out documents\n",
        "i = 0\n",
        "texts: list[Document] = [\n",
        "    Document(page_content=chunk.text, metadata={\"doc_id\": (i:=i+1), \"source\": source})\n",
        "    for source in sources\n",
        "    for chunk in HybridChunker(tokenizer=embeddings_tokenizer).chunk(converter.convert(source=source).document)\n",
        "    if any(filter(lambda c: c.label in [DocItemLabel.TEXT, DocItemLabel.PARAGRAPH], iter(chunk.meta.doc_items)))\n",
        "]\n",
        "\n",
        "print(f\"{len(texts)} document chunks created\")"
      ]
    },
    {
      "cell_type": "code",
      "execution_count": null,
      "metadata": {
        "id": "htIYVVjHPKSX"
      },
      "outputs": [],
      "source": [
        "# Print all created documents\n",
        "for document in texts:\n",
        "    print(f\"Document ID: {document.metadata['doc_id']}\")\n",
        "    print(f\"Source: {document.metadata['source']}\")\n",
        "    print(f\"Content:\\n{document.page_content}\")\n",
        "    print(\"=\" * 80)  # Separator for clarity\n"
      ]
    },
    {
      "cell_type": "markdown",
      "metadata": {
        "id": "-Bjz1IR3_JRK",
        "jupyter": {
          "outputs_hidden": false
        },
        "pycharm": {
          "name": "#%% md\n"
        }
      },
      "source": [
        "### Populate the vector database\n",
        "\n",
        "NOTE: Population of the vector database may take over a minute depending on your embedding model and service."
      ]
    },
    {
      "cell_type": "code",
      "execution_count": null,
      "metadata": {
        "id": "YSbVb6R4_JRK"
      },
      "outputs": [],
      "source": [
        "ids = vector_db.add_documents(texts)\n",
        "print(f\"{len(ids)} documents added to the vector database\")"
      ]
    },
    {
      "cell_type": "markdown",
      "metadata": {
        "id": "Wq50gMAO_JRK"
      },
      "source": [
        "## Step 5: RAG with Granite"
      ]
    },
    {
      "cell_type": "markdown",
      "metadata": {
        "id": "uZOYJW0D_JRL"
      },
      "source": [
        "Now that we have succesfully converted our documents and vectorized them, we can set up out RAG pipeline."
      ]
    },
    {
      "cell_type": "markdown",
      "metadata": {
        "id": "UC_KSxFk_JRL"
      },
      "source": [
        "### Retrieve relevant chunks\n",
        "\n"
      ]
    },
    {
      "cell_type": "markdown",
      "metadata": {
        "id": "bf8T8eZk_JRL"
      },
      "source": [
        "Here we will test the as_retriever method to search through our newly created vector database for chunks that are relevant to our original query\n",
        "\n"
      ]
    },
    {
      "cell_type": "code",
      "execution_count": null,
      "metadata": {
        "id": "pMtTSHhQ_JRL"
      },
      "outputs": [],
      "source": [
        "retriever = vector_db.as_retriever()\n",
        "\n",
        "docs = retriever.invoke(query)\n",
        "print(docs)"
      ]
    },
    {
      "cell_type": "markdown",
      "metadata": {
        "id": "viFYsnxTS2OC"
      },
      "source": [
        "Looks like it pulled some chunks that would have the information we are looking for. Let's go ahead and contruct our RAG pipeline."
      ]
    },
    {
      "cell_type": "markdown",
      "metadata": {
        "id": "CxVuFY_A_JRL"
      },
      "source": [
        "### Create the prompt for Granite 3.1 8b"
      ]
    },
    {
      "cell_type": "markdown",
      "metadata": {
        "id": "cvoMcqtb_JRL"
      },
      "source": [
        "Next, we construct the prompt pipeline. This creates the prompt which holds the retrieved chunks from out previous search and feeds this to the model as context for answering our question."
      ]
    },
    {
      "cell_type": "code",
      "execution_count": null,
      "metadata": {
        "id": "PB-CPPTo_JRL"
      },
      "outputs": [],
      "source": [
        "from langchain.prompts import PromptTemplate\n",
        "from langchain.chains import create_retrieval_chain\n",
        "from langchain.chains.combine_documents import create_stuff_documents_chain\n",
        "\n",
        "# Create a prompt template for question-answering with the retrieved context.\n",
        "prompt_template = \"\"\"<|start_of_role|>system<|end_of_role|>\\\n",
        "{{\n",
        "  Context information is below.\\n---------------------\\n{context}\\n---------------------\\nGiven the context information and not prior knowledge, answer the query.\\nQuery: {input}\\nAnswer:\\n\n",
        "  }}\n",
        "}}<|end_of_text|>\n",
        "<|start_of_role|>user<|end_of_role|>{input}\"\"\"\n",
        "\n",
        "# Assemble the retrieval-augmented generation chain.\n",
        "qa_chain_prompt = PromptTemplate.from_template(prompt_template)\n",
        "combine_docs_chain = create_stuff_documents_chain(model, qa_chain_prompt)\n",
        "rag_chain = create_retrieval_chain(vector_db.as_retriever(), combine_docs_chain)"
      ]
    },
    {
      "cell_type": "markdown",
      "metadata": {
        "id": "p_NU_Yhl_JRQ",
        "jupyter": {
          "outputs_hidden": false
        },
        "pycharm": {
          "name": "#%% md\n"
        }
      },
      "source": [
        "### Generate a retrieval-augmented response to a question"
      ]
    },
    {
      "cell_type": "markdown",
      "metadata": {
        "id": "qXQzDqAB_JRQ",
        "jupyter": {
          "outputs_hidden": false
        },
        "pycharm": {
          "name": "#%% md\n"
        }
      },
      "source": [
        "Using the chunks from the similarity search as context, the response from Granite RAG 3.1 8b is recieved in JSON document. This cell then parses the JSON document to retrieve the sentences of the response along with metadata about the sentence which can be used to guide the displayed output."
      ]
    },
    {
      "cell_type": "code",
      "execution_count": null,
      "metadata": {
        "id": "Hdo9PXsU_JRQ",
        "jupyter": {
          "outputs_hidden": false
        },
        "pycharm": {
          "name": "#%%\n"
        }
      },
      "outputs": [],
      "source": [
        "output = rag_chain.invoke({\"input\": query})\n",
        "\n",
        "print(output['answer'])"
      ]
    },
    {
      "cell_type": "markdown",
      "metadata": {
        "id": "KeErN8ZVPgf6"
      },
      "source": [
        "Awesome! It looks like the model figured out our first question. Let's see if it figure out the rule we were looking for."
      ]
    },
    {
      "cell_type": "code",
      "execution_count": null,
      "metadata": {
        "id": "F5u06aEjThd3"
      },
      "outputs": [],
      "source": [
        "output = rag_chain.invoke({\"input\": query1})\n",
        "\n",
        "print(output['answer'])"
      ]
    },
    {
      "cell_type": "markdown",
      "metadata": {
        "id": "c_uyUdCu_JRQ"
      },
      "source": [
        "Awesome! We can now see that we have created a pipeline that can successfully leverage knowledge from multiple document types for generation."
      ]
    },
    {
      "cell_type": "markdown",
      "metadata": {
        "id": "GTaX1-SPT6rU"
      },
      "source": [
        "## Next Steps\n",
        "\n",
        "- Explore advanced RAG workflows for other industries\n",
        "- Experiment with other document types and larger datasets.\n",
        "- Optimize prompt engineering for better Granite responses.\n",
        "\n",
        "Thank you for using this recipe!"
      ]
    }
  ],
  "metadata": {
    "colab": {
      "provenance": []
    },
    "kernelspec": {
      "display_name": "Python 3",
      "language": "python",
      "name": "python3"
    },
    "language_info": {
      "codemirror_mode": {
        "name": "ipython",
        "version": 3
      },
      "file_extension": ".py",
      "mimetype": "text/x-python",
      "name": "python",
      "nbconvert_exporter": "python",
      "pygments_lexer": "ipython3",
      "version": "3.11.10"
    }
  },
  "nbformat": 4,
  "nbformat_minor": 0
}
